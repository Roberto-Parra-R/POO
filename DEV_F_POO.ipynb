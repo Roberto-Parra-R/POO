{
  "nbformat": 4,
  "nbformat_minor": 0,
  "metadata": {
    "colab": {
      "name": "DEV.F-POO.ipynb",
      "provenance": [],
      "authorship_tag": "ABX9TyNVAu+tJGgWacWt5q1QqILb",
      "include_colab_link": true
    },
    "kernelspec": {
      "name": "python3",
      "display_name": "Python 3"
    },
    "language_info": {
      "name": "python"
    }
  },
  "cells": [
    {
      "cell_type": "markdown",
      "metadata": {
        "id": "view-in-github",
        "colab_type": "text"
      },
      "source": [
        "<a href=\"https://colab.research.google.com/github/Roberto-Parra-R/POO/blob/master/DEV_F_POO.ipynb\" target=\"_parent\"><img src=\"https://colab.research.google.com/assets/colab-badge.svg\" alt=\"Open In Colab\"/></a>"
      ]
    },
    {
      "cell_type": "code",
      "source": [
        "class Jake_Peralta:\n",
        "    \n",
        "    # Frist define class attributes (properties)\n",
        "    weight = 77\n",
        "    hair_color = 'Dark brown'\n",
        "    height = 175\n",
        "    name = 'Jacob \\\"Jake\\\" Jeffrey Peralta'\n",
        "    \n",
        "    # Define a method (function) for printing characters' names\n",
        "    def arrest(self):\n",
        "        print(f'Detective {self.name}, You do not have to say anything. But, it may harm your defence if you do not mention when questioned something which you later rely on in court. Anything you do say may be given in evidence.')\n",
        "\n",
        "# Object Creation\n",
        "Jake = Jake_Peralta()\n",
        "\n",
        "# Access object attributes using the dot notation\n",
        "print(\"Jake's Name: \" , Jake.name)\n",
        "print(\"Jake's Hair Color: \", Jake.hair_color )\n",
        "print(\"Jake is Saying: \", Jake.arrest() )"
      ],
      "metadata": {
        "colab": {
          "base_uri": "https://localhost:8080/"
        },
        "id": "nMBKuRZphjs-",
        "outputId": "1b412bcc-9640-44ad-b62c-cfcaad38801e"
      },
      "execution_count": null,
      "outputs": [
        {
          "output_type": "stream",
          "name": "stdout",
          "text": [
            "Jake's Name:  Jacob \"Jake\" Jeffrey Peralta\n",
            "Jake's Hair Color:  Dark brown\n",
            "Detective Jacob \"Jake\" Jeffrey Peralta, You do not have to say anything. But, it may harm your defence if you do not mention when questioned something which you later rely on in court. Anything you do say may be given in evidence.\n",
            "Jake is Saying:  None\n"
          ]
        }
      ]
    }
  ]
}